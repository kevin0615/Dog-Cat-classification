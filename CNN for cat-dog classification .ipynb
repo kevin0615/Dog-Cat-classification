{
  "nbformat": 4,
  "nbformat_minor": 0,
  "metadata": {
    "colab": {
      "name": "convolutional_neural_network.ipynb",
      "provenance": [],
      "collapsed_sections": [],
      "toc_visible": true
    },
    "kernelspec": {
      "name": "python3",
      "display_name": "Python 3"
    },
    "accelerator": "GPU"
  },
  "cells": [
    {
      "cell_type": "markdown",
      "metadata": {
        "id": "3DR-eO17geWu"
      },
      "source": [
        "# Cat-Dog classification using convolutional Neural Network"
      ]
    },
    {
      "cell_type": "markdown",
      "metadata": {
        "id": "EMefrVPCg-60"
      },
      "source": [
        "### Importing the libraries"
      ]
    },
    {
      "cell_type": "code",
      "metadata": {
        "id": "sCV30xyVhFbE"
      },
      "source": [
        "import numpy as np\n",
        "import tensorflow as tf\n",
        "from keras.preprocessing.image import ImageDataGenerator\n",
        "from keras.preprocessing import image"
      ],
      "execution_count": 1,
      "outputs": []
    },
    {
      "cell_type": "markdown",
      "metadata": {
        "id": "oxQxCBWyoGPE"
      },
      "source": [
        "## Part 1 - Data Preprocessing"
      ]
    },
    {
      "cell_type": "markdown",
      "metadata": {
        "id": "MvE-heJNo3GG"
      },
      "source": [
        "### Preprocessing the Training set"
      ]
    },
    {
      "cell_type": "code",
      "metadata": {
        "id": "0koUcJMJpEBD",
        "colab": {
          "base_uri": "https://localhost:8080/"
        },
        "outputId": "9455783e-f8d3-49e6-dfd8-44661b1dbff0"
      },
      "source": [
        "#Transformation applied to avoid overfitting\n",
        "train_data = ImageDataGenerator(\n",
        "        rescale=1./255,\n",
        "        shear_range=0.2,\n",
        "        zoom_range=0.2,\n",
        "        horizontal_flip=True)\n",
        "training_set = train_data.flow_from_directory(\n",
        "        '/dataset/training_set',\n",
        "        target_size=(64, 64),\n",
        "        batch_size=32,\n",
        "        class_mode='binary')"
      ],
      "execution_count": 4,
      "outputs": [
        {
          "output_type": "stream",
          "text": [
            "Found 8000 images belonging to 2 classes.\n"
          ],
          "name": "stdout"
        }
      ]
    },
    {
      "cell_type": "markdown",
      "metadata": {
        "id": "mrCMmGw9pHys"
      },
      "source": [
        "### Preprocessing the Test set"
      ]
    },
    {
      "cell_type": "code",
      "metadata": {
        "id": "SH4WzfOhpKc3",
        "colab": {
          "base_uri": "https://localhost:8080/"
        },
        "outputId": "a7f93f5a-a370-4930-8838-47d02df8196d"
      },
      "source": [
        "test_data = ImageDataGenerator(rescale=1./255)\n",
        "test_set = test_data.flow_from_directory(\n",
        "        '/dataset/test_set',\n",
        "        target_size=(64, 64),\n",
        "        batch_size=32,\n",
        "        class_mode='binary')"
      ],
      "execution_count": 5,
      "outputs": [
        {
          "output_type": "stream",
          "text": [
            "Found 2000 images belonging to 2 classes.\n"
          ],
          "name": "stdout"
        }
      ]
    },
    {
      "cell_type": "markdown",
      "metadata": {
        "id": "af8O4l90gk7B"
      },
      "source": [
        "## Part 2 - Building the CNN"
      ]
    },
    {
      "cell_type": "markdown",
      "metadata": {
        "id": "ces1gXY2lmoX"
      },
      "source": [
        "### Initialising the CNN"
      ]
    },
    {
      "cell_type": "code",
      "metadata": {
        "id": "SAUt4UMPlhLS"
      },
      "source": [
        "cnn = tf.keras.models.Sequential()"
      ],
      "execution_count": 16,
      "outputs": []
    },
    {
      "cell_type": "markdown",
      "metadata": {
        "id": "u5YJj_XMl5LF"
      },
      "source": [
        "### Step 1 - Convolution"
      ]
    },
    {
      "cell_type": "code",
      "metadata": {
        "id": "XPzPrMckl-hV"
      },
      "source": [
        "cnn.add(tf.keras.layers.Conv2D(filters=32, kernel_size=3, activation='relu', input_shape=[64,64, 3]))"
      ],
      "execution_count": 17,
      "outputs": []
    },
    {
      "cell_type": "markdown",
      "metadata": {
        "id": "tf87FpvxmNOJ"
      },
      "source": [
        "### Step 2 - Pooling"
      ]
    },
    {
      "cell_type": "code",
      "metadata": {
        "id": "ncpqPl69mOac"
      },
      "source": [
        "cnn.add(tf.keras.layers.MaxPool2D(pool_size=2, strides=2))"
      ],
      "execution_count": 18,
      "outputs": []
    },
    {
      "cell_type": "markdown",
      "metadata": {
        "id": "xaTOgD8rm4mU"
      },
      "source": [
        "### Adding a second convolutional layer"
      ]
    },
    {
      "cell_type": "code",
      "metadata": {
        "id": "i_-FZjn_m8gk"
      },
      "source": [
        "cnn.add(tf.keras.layers.Conv2D(filters=32, kernel_size=3, activation='relu'))\n",
        "cnn.add(tf.keras.layers.MaxPool2D(pool_size=2, strides=2))"
      ],
      "execution_count": 19,
      "outputs": []
    },
    {
      "cell_type": "markdown",
      "metadata": {
        "id": "tmiEuvTunKfk"
      },
      "source": [
        "### Step 3 - Flattening"
      ]
    },
    {
      "cell_type": "code",
      "metadata": {
        "id": "6AZeOGCvnNZn"
      },
      "source": [
        "cnn.add(tf.keras.layers.Flatten())"
      ],
      "execution_count": 20,
      "outputs": []
    },
    {
      "cell_type": "markdown",
      "metadata": {
        "id": "dAoSECOm203v"
      },
      "source": [
        "### Step 4 - Full Connection"
      ]
    },
    {
      "cell_type": "code",
      "metadata": {
        "id": "8GtmUlLd26Nq"
      },
      "source": [
        "cnn.add(tf.keras.layers.Dense(units=1028, activation='relu'))"
      ],
      "execution_count": 21,
      "outputs": []
    },
    {
      "cell_type": "markdown",
      "metadata": {
        "id": "yTldFvbX28Na"
      },
      "source": [
        "### Step 5 - Output Layer"
      ]
    },
    {
      "cell_type": "code",
      "metadata": {
        "id": "1p_Zj1Mc3Ko_"
      },
      "source": [
        "cnn.add(tf.keras.layers.Dense(units=1, activation='sigmoid'))"
      ],
      "execution_count": 22,
      "outputs": []
    },
    {
      "cell_type": "markdown",
      "metadata": {
        "id": "D6XkI90snSDl"
      },
      "source": [
        "## Part 3 - Training the CNN"
      ]
    },
    {
      "cell_type": "markdown",
      "metadata": {
        "id": "vfrFQACEnc6i"
      },
      "source": [
        "### Compiling the CNN"
      ]
    },
    {
      "cell_type": "code",
      "metadata": {
        "id": "NALksrNQpUlJ"
      },
      "source": [
        "cnn.compile(optimizer= 'adam', loss='binary_crossentropy', metrics= ['accuracy'])"
      ],
      "execution_count": 23,
      "outputs": []
    },
    {
      "cell_type": "markdown",
      "metadata": {
        "id": "ehS-v3MIpX2h"
      },
      "source": [
        "### Training the CNN on the Training set and evaluating it on the Test set"
      ]
    },
    {
      "cell_type": "code",
      "metadata": {
        "id": "SfjihDrPlX6w",
        "colab": {
          "base_uri": "https://localhost:8080/"
        },
        "outputId": "287db531-e8eb-4210-b72a-9ab25df90066"
      },
      "source": [
        "cnn.fit(x=training_set, validation_data = test_set, epochs=25)"
      ],
      "execution_count": 24,
      "outputs": [
        {
          "output_type": "stream",
          "text": [
            "Epoch 1/25\n",
            "250/250 [==============================] - 2589s 10s/step - loss: 0.7416 - accuracy: 0.5125 - val_loss: 0.6545 - val_accuracy: 0.6040\n",
            "Epoch 2/25\n",
            "250/250 [==============================] - 40s 160ms/step - loss: 0.6575 - accuracy: 0.6034 - val_loss: 0.6456 - val_accuracy: 0.6365\n",
            "Epoch 3/25\n",
            "250/250 [==============================] - 40s 161ms/step - loss: 0.6188 - accuracy: 0.6626 - val_loss: 0.5881 - val_accuracy: 0.7000\n",
            "Epoch 4/25\n",
            "250/250 [==============================] - 40s 160ms/step - loss: 0.5813 - accuracy: 0.6981 - val_loss: 0.5511 - val_accuracy: 0.7245\n",
            "Epoch 5/25\n",
            "250/250 [==============================] - 40s 160ms/step - loss: 0.5413 - accuracy: 0.7235 - val_loss: 0.5419 - val_accuracy: 0.7420\n",
            "Epoch 6/25\n",
            "250/250 [==============================] - 40s 159ms/step - loss: 0.5047 - accuracy: 0.7472 - val_loss: 0.5217 - val_accuracy: 0.7570\n",
            "Epoch 7/25\n",
            "250/250 [==============================] - 40s 160ms/step - loss: 0.4893 - accuracy: 0.7729 - val_loss: 0.5742 - val_accuracy: 0.7195\n",
            "Epoch 8/25\n",
            "250/250 [==============================] - 40s 162ms/step - loss: 0.4706 - accuracy: 0.7754 - val_loss: 0.4984 - val_accuracy: 0.7540\n",
            "Epoch 9/25\n",
            "250/250 [==============================] - 40s 161ms/step - loss: 0.4389 - accuracy: 0.7902 - val_loss: 0.4778 - val_accuracy: 0.7780\n",
            "Epoch 10/25\n",
            "250/250 [==============================] - 40s 161ms/step - loss: 0.4024 - accuracy: 0.8182 - val_loss: 0.6021 - val_accuracy: 0.7175\n",
            "Epoch 11/25\n",
            "250/250 [==============================] - 40s 162ms/step - loss: 0.3924 - accuracy: 0.8186 - val_loss: 0.4822 - val_accuracy: 0.7835\n",
            "Epoch 12/25\n",
            "250/250 [==============================] - 40s 162ms/step - loss: 0.3524 - accuracy: 0.8462 - val_loss: 0.5000 - val_accuracy: 0.7795\n",
            "Epoch 13/25\n",
            "250/250 [==============================] - 40s 160ms/step - loss: 0.3339 - accuracy: 0.8531 - val_loss: 0.5269 - val_accuracy: 0.7710\n",
            "Epoch 14/25\n",
            "250/250 [==============================] - 40s 160ms/step - loss: 0.3136 - accuracy: 0.8636 - val_loss: 0.5048 - val_accuracy: 0.7760\n",
            "Epoch 15/25\n",
            "250/250 [==============================] - 40s 161ms/step - loss: 0.2782 - accuracy: 0.8811 - val_loss: 0.5067 - val_accuracy: 0.7920\n",
            "Epoch 16/25\n",
            "250/250 [==============================] - 40s 161ms/step - loss: 0.2545 - accuracy: 0.8964 - val_loss: 0.5270 - val_accuracy: 0.7885\n",
            "Epoch 17/25\n",
            "250/250 [==============================] - 40s 159ms/step - loss: 0.2334 - accuracy: 0.9020 - val_loss: 0.5338 - val_accuracy: 0.7990\n",
            "Epoch 18/25\n",
            "250/250 [==============================] - 40s 161ms/step - loss: 0.2130 - accuracy: 0.9167 - val_loss: 0.5675 - val_accuracy: 0.7990\n",
            "Epoch 19/25\n",
            "250/250 [==============================] - 40s 161ms/step - loss: 0.1815 - accuracy: 0.9290 - val_loss: 0.5373 - val_accuracy: 0.7980\n",
            "Epoch 20/25\n",
            "250/250 [==============================] - 40s 160ms/step - loss: 0.1686 - accuracy: 0.9327 - val_loss: 0.5991 - val_accuracy: 0.7910\n",
            "Epoch 21/25\n",
            "250/250 [==============================] - 40s 160ms/step - loss: 0.1584 - accuracy: 0.9418 - val_loss: 0.6197 - val_accuracy: 0.7915\n",
            "Epoch 22/25\n",
            "250/250 [==============================] - 40s 161ms/step - loss: 0.1290 - accuracy: 0.9515 - val_loss: 0.6375 - val_accuracy: 0.7995\n",
            "Epoch 23/25\n",
            "250/250 [==============================] - 41s 162ms/step - loss: 0.1265 - accuracy: 0.9517 - val_loss: 0.6293 - val_accuracy: 0.7860\n",
            "Epoch 24/25\n",
            "250/250 [==============================] - 41s 162ms/step - loss: 0.1009 - accuracy: 0.9646 - val_loss: 0.6595 - val_accuracy: 0.7965\n",
            "Epoch 25/25\n",
            "250/250 [==============================] - 40s 161ms/step - loss: 0.1133 - accuracy: 0.9622 - val_loss: 0.7015 - val_accuracy: 0.8070\n"
          ],
          "name": "stdout"
        },
        {
          "output_type": "execute_result",
          "data": {
            "text/plain": [
              "<tensorflow.python.keras.callbacks.History at 0x7fb2afb58ba8>"
            ]
          },
          "metadata": {
            "tags": []
          },
          "execution_count": 24
        }
      ]
    },
    {
      "cell_type": "markdown",
      "metadata": {
        "id": "U3PZasO0006Z"
      },
      "source": [
        "## Part 4 - Making a single prediction"
      ]
    },
    {
      "cell_type": "code",
      "metadata": {
        "id": "n3QEF28BdTXz"
      },
      "source": [
        "# Save the model\n",
        "cnn.save('/results/dog-cat-classifier.h5')"
      ],
      "execution_count": 28,
      "outputs": []
    },
    {
      "cell_type": "code",
      "metadata": {
        "id": "gsSiWEJY1BPB",
        "colab": {
          "base_uri": "https://localhost:8080/"
        },
        "outputId": "053b227a-0644-4a9f-ee86-92fdf253a567"
      },
      "source": [
        "test_image = image.load_img('/dataset/single_prediction/cat_or_dog_1.jpg', target_size=(64,64))\n",
        "#convert to image to array\n",
        "test_image = image.img_to_array(test_image)\n",
        "#give the dimension of the bash\n",
        "test_image = np.expand_dims(test_image, axis = 0)\n",
        "#predict\n",
        "result = cnn.predict(test_image)\n",
        "#get the encoding of the classes\n",
        "training_set.class_indices\n",
        "#First access the bash and then the prediction\n",
        "if result[0][0] > 0.5:\n",
        "  prediction = 'dog'\n",
        "else :\n",
        "  prediction = 'cat'\n",
        "\n",
        "print(prediction)"
      ],
      "execution_count": 26,
      "outputs": [
        {
          "output_type": "stream",
          "text": [
            "dog\n"
          ],
          "name": "stdout"
        }
      ]
    },
    {
      "cell_type": "code",
      "metadata": {
        "id": "ED9KB3I54c1i"
      },
      "source": [
        ""
      ],
      "execution_count": null,
      "outputs": []
    }
  ]
}